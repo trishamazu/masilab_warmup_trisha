{
 "cells": [
  {
   "cell_type": "code",
   "execution_count": null,
   "metadata": {},
   "outputs": [],
   "source": [
    "# The data_dir variable is the only input allowed to your code. \n",
    "# Do not modify any file names in the image directory.\n",
    "data_dir = \"./MASI_pets\"\n",
    "# Add your code in the cells."
   ]
  },
  {
   "cell_type": "code",
   "execution_count": 5,
   "metadata": {},
   "outputs": [
    {
     "name": "stdout",
     "output_type": "stream",
     "text": [
      "[<PIL.JpegImagePlugin.JpegImageFile image mode=RGB size=3024x4032 at 0x104389900>, <PIL.JpegImagePlugin.JpegImageFile image mode=RGB size=3456x4608 at 0x10438A770>, <PIL.JpegImagePlugin.JpegImageFile image mode=RGB size=3024x4032 at 0x104389F00>, <PIL.JpegImagePlugin.JpegImageFile image mode=RGB size=3024x4032 at 0x1041CBBB0>, <PIL.JpegImagePlugin.JpegImageFile image mode=RGB size=1200x1600 at 0x1041CBEE0>, <PIL.JpegImagePlugin.JpegImageFile image mode=RGB size=4032x3024 at 0x1041CBD00>, <PIL.JpegImagePlugin.JpegImageFile image mode=RGB size=3024x4032 at 0x1041D3CD0>, <PIL.JpegImagePlugin.JpegImageFile image mode=RGB size=3024x4032 at 0x1041D01C0>, <PIL.PngImagePlugin.PngImageFile image mode=RGBA size=3024x4032 at 0x1041D02E0>, <PIL.JpegImagePlugin.JpegImageFile image mode=RGB size=3072x2304 at 0x1041D0340>, <PIL.PngImagePlugin.PngImageFile image mode=RGBA size=1785x3173 at 0x1041D0400>, <PIL.JpegImagePlugin.JpegImageFile image mode=RGB size=2268x4032 at 0x1041D0A30>, <PIL.JpegImagePlugin.JpegImageFile image mode=RGB size=3024x4032 at 0x1041D0AC0>, <PIL.JpegImagePlugin.JpegImageFile image mode=RGB size=1838x1278 at 0x1041D09D0>, <PIL.JpegImagePlugin.JpegImageFile image mode=RGB size=649x1398 at 0x1041D0BB0>, <PIL.JpegImagePlugin.JpegImageFile image mode=RGB size=1960x4032 at 0x1041D0E50>, <PIL.JpegImagePlugin.JpegImageFile image mode=RGB size=2448x3264 at 0x1041D0D30>, <PIL.JpegImagePlugin.JpegImageFile image mode=RGB size=3024x4032 at 0x1041A5D50>]\n"
     ]
    }
   ],
   "source": [
    "import os\n",
    "from PIL import Image\n",
    "\n",
    "# set path to image directory\n",
    "path = data_dir\n",
    "\n",
    "# create lists to store image metadata\n",
    "images_list = []\n",
    "image_names = []\n",
    "pet_names = []\n",
    "owner_initials = []\n",
    "widths = []\n",
    "heights = []\n",
    "sizes = []\n",
    "aspect_ratios = []\n",
    "\n",
    "# loop through images in directory and add to list\n",
    "for images in os.listdir(path):   \n",
    "    images_list.append(Image.open(os.path.join(path, images)))\n",
    "    \n",
    "# get info from each image\n",
    "for i in images_list:\n",
    "\n",
    "    # get image name\n",
    "    name = i.filename.removeprefix('./MASI_pets/')\n",
    "    image_names.append(name)\n",
    "    \n",
    "    # get pet name\n",
    "    x = '_'\n",
    "    pet_name = name.split(x, 1)[0]\n",
    "    pet_names.append(pet_name)\n",
    "    \n",
    "    # get owner initials\n",
    "    temp = name.split(x, 1)\n",
    "    if len(temp) > 0: \n",
    "        initials = temp[1]\n",
    "    y = '.'\n",
    "    initials = initials.split(y, 1)[0]\n",
    "    owner_initials.append(initials)\n",
    "    \n",
    "    # get image dimensions and size\n",
    "    width = i.width\n",
    "    height = i.height\n",
    "    widths.append(width)\n",
    "    heights.append(height)\n",
    "    sizes.append(width * height)\n",
    "    \n",
    "    # get aspect ratio\n",
    "    aspect_ratio = round((width / height), 2)\n",
    "    aspect_ratios.append(aspect_ratio)\n",
    "    \n",
    "images_table = []\n",
    "\n",
    "# loop to add info with correct format for table\n",
    "i = 0\n",
    "while i < len(images_list):\n",
    "    image_info = []\n",
    "    image_info.append(image_names[i])\n",
    "    image_info.append(pet_names[i])\n",
    "    image_info.append(owner_initials[i])\n",
    "    image_info.append(widths[i])\n",
    "    image_info.append(heights[i])\n",
    "    image_info.append(sizes[i])\n",
    "    image_info.append(aspect_ratios[i])\n",
    "    images_table.append(image_info)\n",
    "    i += 1\n",
    "\n",
    "print(images_table)"
   ]
  },
  {
   "cell_type": "code",
   "execution_count": null,
   "metadata": {},
   "outputs": [],
   "source": []
  }
 ],
 "metadata": {
  "kernelspec": {
   "display_name": "Python 3 (ipykernel)",
   "language": "python",
   "name": "python3"
  },
  "language_info": {
   "codemirror_mode": {
    "name": "ipython",
    "version": 3
   },
   "file_extension": ".py",
   "mimetype": "text/x-python",
   "name": "python",
   "nbconvert_exporter": "python",
   "pygments_lexer": "ipython3",
   "version": "3.10.6"
  },
  "vscode": {
   "interpreter": {
    "hash": "31f2aee4e71d21fbe5cf8b01ff0e069b9275f58929596ceb00d14d90e3e16cd6"
   }
  }
 },
 "nbformat": 4,
 "nbformat_minor": 2
}
