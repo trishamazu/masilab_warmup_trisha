{
 "cells": [
  {
   "cell_type": "code",
   "execution_count": null,
   "metadata": {},
   "outputs": [],
   "source": [
    "# The data_dir variable is the only input allowed to your code. \n",
    "# Do not modify any file names in the image directory.\n",
    "data_dir = \"./MASI_pets\"\n",
    "# Add your code in the cells."
   ]
  },
  {
   "cell_type": "code",
   "execution_count": 9,
   "metadata": {},
   "outputs": [
    {
     "name": "stdout",
     "output_type": "stream",
     "text": [
      "=========================  ==================  ================  =======  ========  ========  ==============\n",
      "Image Name                 Pet Name            Owner Initials      Width    Height      Size    Aspect Ratio\n",
      "=========================  ==================  ================  =======  ========  ========  ==============\n",
      "Yasha_SR.jpg               Yasha               SR                   3456      4608  15925248            0.75\n",
      "August_XY.jpg              August              XY                   3024      4032  12192768            0.75\n",
      "Xiaomi_CG.jpeg             Xiaomi              CG                   3024      4032  12192768            0.75\n",
      "Mango_LC.jpg               Mango               LC                   3024      4032  12192768            0.75\n",
      "Disney_XY.jpg              Disney              XY                   4032      3024  12192768            1.33\n",
      "Ruby and Buddy_MK.jpg      Ruby and Buddy      MK                   3024      4032  12192768            0.75\n",
      "Francie_CK.jpg             Francie             CK                   3024      4032  12192768            0.75\n",
      "Hamilton_CK.png            Hamilton            CK                   3024      4032  12192768            0.75\n",
      "Arthur_FR.jpg              Arthur              FR                   3024      4032  12192768            0.75\n",
      "Ziggy_NN.jpg               Ziggy               NN                   3024      4032  12192768            0.75\n",
      "Lucky_TL.jpg               Lucky               TL                   2268      4032   9144576            0.56\n",
      "Oliver_CB.jpg              Oliver              CB                   2448      3264   7990272            0.75\n",
      "Max_BL.jpg                 Max                 BL                   1960      4032   7902720            0.49\n",
      "Nutmeg_BL.JPG              Nutmeg              BL                   3072      2304   7077888            1.33\n",
      "Fuzzy Pants_BL.png         Fuzzy Pants         BL                   1785      3173   5663805            0.56\n",
      "Morris and Jackson_YT.jpg  Morris and Jackson  YT                   1838      1278   2348964            1.44\n",
      "Nimbus_KR.jpg              Nimbus              KR                   1200      1600   1920000            0.75\n",
      "Hazel_KS.JPG               Hazel               KS                    649      1398    907302            0.46\n",
      "=========================  ==================  ================  =======  ========  ========  ==============\n"
     ]
    }
   ],
   "source": [
    "import os, operator\n",
    "from PIL import Image\n",
    "from tabulate import tabulate\n",
    "\n",
    "# set path to image directory\n",
    "path = data_dir\n",
    "\n",
    "# create lists to store image metadata\n",
    "images_list = []\n",
    "image_names = []\n",
    "pet_names = []\n",
    "owner_initials = []\n",
    "widths = []\n",
    "heights = []\n",
    "sizes = []\n",
    "aspect_ratios = []\n",
    "\n",
    "# loop through images in directory and add to list\n",
    "for images in os.listdir(path):   \n",
    "    images_list.append(Image.open(os.path.join(path, images)))\n",
    "    \n",
    "# get info from each image\n",
    "for i in images_list:\n",
    "\n",
    "    # get image name\n",
    "    name = i.filename.removeprefix('./MASI_pets/')\n",
    "    image_names.append(name)\n",
    "    \n",
    "    # get pet name\n",
    "    x = '_'\n",
    "    pet_name = name.split(x, 1)[0]\n",
    "    pet_names.append(pet_name)\n",
    "    \n",
    "    # get owner initials\n",
    "    temp = name.split(x, 1)\n",
    "    if len(temp) > 0: \n",
    "        initials = temp[1]\n",
    "    y = '.'\n",
    "    initials = initials.split(y, 1)[0]\n",
    "    owner_initials.append(initials)\n",
    "    \n",
    "    # get image dimensions and size\n",
    "    width = i.width\n",
    "    height = i.height\n",
    "    widths.append(width)\n",
    "    heights.append(height)\n",
    "    sizes.append(width * height)\n",
    "    \n",
    "    # get aspect ratio\n",
    "    aspect_ratio = round((width / height), 2)\n",
    "    aspect_ratios.append(aspect_ratio)\n",
    "    \n",
    "images_table = []\n",
    "\n",
    "# loop to add info with correct format for table\n",
    "i = 0\n",
    "while i < len(images_list):\n",
    "    image_info = []\n",
    "    image_info.append(image_names[i])\n",
    "    image_info.append(pet_names[i])\n",
    "    image_info.append(owner_initials[i])\n",
    "    image_info.append(widths[i])\n",
    "    image_info.append(heights[i])\n",
    "    image_info.append(sizes[i])\n",
    "    image_info.append(aspect_ratios[i])\n",
    "    images_table.append(image_info)\n",
    "    i += 1\n",
    "\n",
    "# create and sort table\n",
    "sorted_images_table = sorted(images_table, key = operator.itemgetter(5), reverse = True)\n",
    "\n",
    "# print table\n",
    "header = ['Image Name', 'Pet Name', 'Owner Initials', 'Width', 'Height', 'Size', 'Aspect Ratio']\n",
    "print(tabulate(sorted_images_table, headers = header, tablefmt = \"rst\"))"
   ]
  },
  {
   "cell_type": "code",
   "execution_count": null,
   "metadata": {},
   "outputs": [],
   "source": []
  },
  {
   "cell_type": "code",
   "execution_count": null,
   "metadata": {},
   "outputs": [],
   "source": []
  }
 ],
 "metadata": {
  "kernelspec": {
   "display_name": "Python 3 (ipykernel)",
   "language": "python",
   "name": "python3"
  },
  "language_info": {
   "codemirror_mode": {
    "name": "ipython",
    "version": 3
   },
   "file_extension": ".py",
   "mimetype": "text/x-python",
   "name": "python",
   "nbconvert_exporter": "python",
   "pygments_lexer": "ipython3",
   "version": "3.10.6"
  },
  "vscode": {
   "interpreter": {
    "hash": "31f2aee4e71d21fbe5cf8b01ff0e069b9275f58929596ceb00d14d90e3e16cd6"
   }
  }
 },
 "nbformat": 4,
 "nbformat_minor": 2
}
