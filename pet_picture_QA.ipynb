{
 "cells": [
  {
   "cell_type": "code",
   "execution_count": 2,
   "metadata": {},
   "outputs": [],
   "source": [
    "# The data_dir variable is the only input allowed to your code. \n",
    "# Do not modify any file names in the image directory.\n",
    "data_dir = \"./MASI_pets\"\n",
    "# Add your code in the cells."
   ]
  },
  {
   "cell_type": "code",
   "execution_count": 5,
   "metadata": {},
   "outputs": [
    {
     "name": "stdout",
     "output_type": "stream",
     "text": [
      "=========================  ==================  ================  =======  ========  ========  ==============\n",
      "Image Name                 Pet Name            Owner Initials      Width    Height      Size    Aspect Ratio\n",
      "=========================  ==================  ================  =======  ========  ========  ==============\n",
      "Yasha_SR.jpg               Yasha               SR                   3456      4608  15925248            0.75\n",
      "Arthur_FR.jpg              Arthur              FR                   3024      4032  12192768            0.75\n",
      "August_XY.jpg              August              XY                   3024      4032  12192768            0.75\n",
      "Disney_XY.jpg              Disney              XY                   4032      3024  12192768            1.33\n",
      "Francie_CK.jpg             Francie             CK                   3024      4032  12192768            0.75\n",
      "Hamilton_CK.png            Hamilton            CK                   3024      4032  12192768            0.75\n",
      "Mango_LC.jpg               Mango               LC                   3024      4032  12192768            0.75\n",
      "Ruby and Buddy_MK.jpg      Ruby and Buddy      MK                   3024      4032  12192768            0.75\n",
      "Xiaomi_CG.jpeg             Xiaomi              CG                   3024      4032  12192768            0.75\n",
      "Ziggy_NN.jpg               Ziggy               NN                   3024      4032  12192768            0.75\n",
      "Lucky_TL.jpg               Lucky               TL                   2268      4032   9144576            0.56\n",
      "Oliver_CB.jpg              Oliver              CB                   2448      3264   7990272            0.75\n",
      "Max_BL.jpg                 Max                 BL                   1960      4032   7902720            0.49\n",
      "Nutmeg_BL.JPG              Nutmeg              BL                   3072      2304   7077888            1.33\n",
      "Fuzzy Pants_BL.png         Fuzzy Pants         BL                   1785      3173   5663805            0.56\n",
      "Morris and Jackson_YT.jpg  Morris and Jackson  YT                   1838      1278   2348964            1.44\n",
      "Nimbus_KR.jpg              Nimbus              KR                   1200      1600   1920000            0.75\n",
      "Hazel_KS.JPG               Hazel               KS                    649      1398    907302            0.46\n",
      "=========================  ==================  ================  =======  ========  ========  ==============\n"
     ]
    }
   ],
   "source": [
    "import os, operator\n",
    "from PIL import Image\n",
    "from tabulate import tabulate\n",
    "\n",
    "# set path to image directory\n",
    "data_dir = \"./MASI_pets\"\n",
    "path = data_dir\n",
    "\n",
    "# create lists to store image metadata\n",
    "images_list = []\n",
    "image_names = []\n",
    "pet_names = []\n",
    "owner_initials = []\n",
    "widths = []\n",
    "heights = []\n",
    "sizes = []\n",
    "aspect_ratios = []\n",
    "\n",
    "# loop through images in directory and add to list\n",
    "for images in os.listdir(path):   \n",
    "    images_list.append(Image.open(os.path.join(path, images)))\n",
    "    \n",
    "# get info from each image\n",
    "for i in images_list:\n",
    "\n",
    "    # get image name\n",
    "    name = i.filename.removeprefix('./MASI_pets/')\n",
    "    image_names.append(name)\n",
    "    \n",
    "    # get pet name\n",
    "    x = '_'\n",
    "    pet_name = name.split(x, 1)[0]\n",
    "    pet_names.append(pet_name)\n",
    "    \n",
    "    # get owner initials\n",
    "    temp = name.split(x, 1)\n",
    "    if len(temp) > 0: \n",
    "        initials = temp[1]\n",
    "    y = '.'\n",
    "    initials = initials.split(y, 1)[0]\n",
    "    owner_initials.append(initials)\n",
    "    \n",
    "    # get image dimensions and size\n",
    "    width = i.width\n",
    "    height = i.height\n",
    "    widths.append(width)\n",
    "    heights.append(height)\n",
    "    sizes.append(width * height)\n",
    "    \n",
    "    # get aspect ratio\n",
    "    aspect_ratio = round((width / height), 2)\n",
    "    aspect_ratios.append(aspect_ratio)\n",
    "    \n",
    "images_table = []\n",
    "\n",
    "# loop to add info with correct format for table\n",
    "i = 0\n",
    "while i < len(images_list):\n",
    "    image_info = []\n",
    "    image_info.append(image_names[i])\n",
    "    image_info.append(pet_names[i])\n",
    "    image_info.append(owner_initials[i])\n",
    "    image_info.append(widths[i])\n",
    "    image_info.append(heights[i])\n",
    "    image_info.append(sizes[i])\n",
    "    image_info.append(aspect_ratios[i])\n",
    "    images_table.append(image_info)\n",
    "    i += 1\n",
    "\n",
    "# create and sort table\n",
    "sorted_images_table = sorted(images_table, key = lambda x: (-x[5], x[1]))\n",
    "\n",
    "# print table\n",
    "header = ['Image Name', 'Pet Name', 'Owner Initials', 'Width', 'Height', 'Size', 'Aspect Ratio']\n",
    "print(tabulate(sorted_images_table, headers = header, tablefmt = \"rst\"))"
   ]
  },
  {
   "cell_type": "code",
   "execution_count": 6,
   "metadata": {},
   "outputs": [
    {
     "data": {
      "image/png": "[encoded data removed]",
      "text/plain": [
       "<Figure size 432x288 with 1 Axes>"
      ]
     },
     "metadata": {
      "needs_background": "light"
     },
     "output_type": "display_data"
    }
   ],
   "source": [
    "import matplotlib.pyplot as plt\n",
    "\n",
    "# set labels and graph scatterplot\n",
    "plt.scatter(sizes, aspect_ratios)\n",
    "plt.title(\"The relationship between image size and aspect ratio is inconclusive\")\n",
    "plt.xlabel(\"Image Size (in pixels)\")\n",
    "plt.ylabel(\"Image Aspect Ratio\")\n",
    "plt.show()"
   ]
  },
  {
   "cell_type": "code",
   "execution_count": 9,
   "metadata": {},
   "outputs": [
    {
     "name": "stdout",
     "output_type": "stream",
     "text": [
      "[['BL', 'Fuzzy Pants', <PIL.PngImagePlugin.PngImageFile image mode=RGBA size=1785x3173 at 0x10FDB4BB0>], ['BL', 'Max', <PIL.JpegImagePlugin.JpegImageFile image mode=RGB size=1960x4032 at 0x10FDEF8E0>], ['BL', 'Nutmeg', <PIL.JpegImagePlugin.JpegImageFile image mode=RGB size=3072x2304 at 0x10FDB4970>], ['CB', 'Oliver', <PIL.JpegImagePlugin.JpegImageFile image mode=RGB size=2448x3264 at 0x10FDEF880>], ['CG', 'Xiaomi', <PIL.JpegImagePlugin.JpegImageFile image mode=RGB size=3024x4032 at 0x10C0A2200>], ['CK', 'Francie', <PIL.JpegImagePlugin.JpegImageFile image mode=RGB size=3024x4032 at 0x10FDB6AD0>], ['CK', 'Hamilton', <PIL.PngImagePlugin.PngImageFile image mode=RGBA size=3024x4032 at 0x10FDB63E0>], ['FR', 'Arthur', <PIL.JpegImagePlugin.JpegImageFile image mode=RGB size=3024x4032 at 0x10FDEF3A0>], ['KR', 'Nimbus', <PIL.JpegImagePlugin.JpegImageFile image mode=RGB size=1200x1600 at 0x107A13B20>], ['KS', 'Hazel', <PIL.JpegImagePlugin.JpegImageFile image mode=RGB size=649x1398 at 0x10FDEFCD0>], ['LC', 'Mango', <PIL.JpegImagePlugin.JpegImageFile image mode=RGB size=3024x4032 at 0x10C0A2050>], ['MK', 'Ruby and Buddy', <PIL.JpegImagePlugin.JpegImageFile image mode=RGB size=3024x4032 at 0x10FDB6890>], ['NN', 'Ziggy', <PIL.JpegImagePlugin.JpegImageFile image mode=RGB size=3024x4032 at 0x10FDEC1C0>], ['SR', 'Yasha', <PIL.JpegImagePlugin.JpegImageFile image mode=RGB size=3456x4608 at 0x10FD22140>], ['TL', 'Lucky', <PIL.JpegImagePlugin.JpegImageFile image mode=RGB size=2268x4032 at 0x10FDEF370>], ['XY', 'August', <PIL.JpegImagePlugin.JpegImageFile image mode=RGB size=3024x4032 at 0x10FD23C40>], ['XY', 'Disney', <PIL.JpegImagePlugin.JpegImageFile image mode=RGB size=4032x3024 at 0x10C0A0A00>], ['YT', 'Morris and Jackson', <PIL.JpegImagePlugin.JpegImageFile image mode=RGB size=1838x1278 at 0x10FDEFEE0>]]\n"
     ]
    },
    {
     "data": {
      "text/plain": [
       "<Figure size 1296x1152 with 0 Axes>"
      ]
     },
     "metadata": {},
     "output_type": "display_data"
    }
   ],
   "source": [
    "import math\n",
    "\n",
    "# create figure\n",
    "fig = plt.figure(figsize = (18, 16))\n",
    "columns = 5\n",
    "rows = math.ceil(len(images_list) / columns)\n",
    "\n",
    "images_display = []\n",
    "\n",
    "# loop to group relevant image info\n",
    "i = 0\n",
    "while i < len(images_list):\n",
    "    display_info = []\n",
    "    display_info.append(owner_initials[i])\n",
    "    display_info.append(pet_names[i])\n",
    "    display_info.append(images_list[i])\n",
    "    images_display.append(display_info)\n",
    "    i += 1\n",
    "\n",
    "# sort images\n",
    "sorted_images_display = sorted(images_display, key = operator.itemgetter(0, 1))\n",
    "\n",
    "print(sorted_images_display)"
   ]
  },
  {
   "cell_type": "code",
   "execution_count": null,
   "metadata": {},
   "outputs": [],
   "source": []
  },
  {
   "cell_type": "code",
   "execution_count": null,
   "metadata": {},
   "outputs": [],
   "source": []
  },
  {
   "cell_type": "code",
   "execution_count": null,
   "metadata": {},
   "outputs": [],
   "source": []
  },
  {
   "cell_type": "code",
   "execution_count": null,
   "metadata": {},
   "outputs": [],
   "source": []
  },
  {
   "cell_type": "code",
   "execution_count": null,
   "metadata": {},
   "outputs": [],
   "source": []
  }
 ],
 "metadata": {
  "kernelspec": {
   "display_name": "Python 3 (ipykernel)",
   "language": "python",
   "name": "python3"
  },
  "language_info": {
   "codemirror_mode": {
    "name": "ipython",
    "version": 3
   },
   "file_extension": ".py",
   "mimetype": "text/x-python",
   "name": "python",
   "nbconvert_exporter": "python",
   "pygments_lexer": "ipython3",
   "version": "3.10.6"
  },
  "vscode": {
   "interpreter": {
    "hash": "31f2aee4e71d21fbe5cf8b01ff0e069b9275f58929596ceb00d14d90e3e16cd6"
   }
  }
 },
 "nbformat": 4,
 "nbformat_minor": 2
}
