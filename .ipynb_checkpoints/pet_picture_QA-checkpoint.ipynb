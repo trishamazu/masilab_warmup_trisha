{
 "cells": [
  {
   "cell_type": "code",
   "execution_count": null,
   "metadata": {},
   "outputs": [],
   "source": [
    "# The data_dir variable is the only input allowed to your code. \n",
    "# Do not modify any file names in the image directory.\n",
    "data_dir = \"./MASI_pets\"\n",
    "# Add your code in the cells."
   ]
  },
  {
   "cell_type": "code",
   "execution_count": 3,
   "metadata": {},
   "outputs": [
    {
     "name": "stdout",
     "output_type": "stream",
     "text": [
      "Ziggy_NN.jpg\n"
     ]
    }
   ],
   "source": [
    "import os\n",
    "from PIL import Image\n",
    "\n",
    "# set path to image directory\n",
    "path = data_dir\n",
    "\n",
    "# create lists to store image metadata\n",
    "images_list = []\n",
    "image_names = []\n",
    "pet_names = []\n",
    "owner_initials = []\n",
    "widths = []\n",
    "heights = []\n",
    "sizes = []\n",
    "aspect_ratios = []\n",
    "\n",
    "# loop through images in directory and add to list\n",
    "for images in os.listdir(path):   \n",
    "    images_list.append(Image.open(os.path.join(path, images)))\n",
    "    \n",
    "print(images)"
   ]
  },
  {
   "cell_type": "code",
   "execution_count": null,
   "metadata": {},
   "outputs": [],
   "source": []
  }
 ],
 "metadata": {
  "kernelspec": {
   "display_name": "Python 3 (ipykernel)",
   "language": "python",
   "name": "python3"
  },
  "language_info": {
   "codemirror_mode": {
    "name": "ipython",
    "version": 3
   },
   "file_extension": ".py",
   "mimetype": "text/x-python",
   "name": "python",
   "nbconvert_exporter": "python",
   "pygments_lexer": "ipython3",
   "version": "3.10.6"
  },
  "vscode": {
   "interpreter": {
    "hash": "31f2aee4e71d21fbe5cf8b01ff0e069b9275f58929596ceb00d14d90e3e16cd6"
   }
  }
 },
 "nbformat": 4,
 "nbformat_minor": 2
}
